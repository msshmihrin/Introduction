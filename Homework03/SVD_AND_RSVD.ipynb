{
 "cells": [
  {
   "cell_type": "code",
   "execution_count": null,
   "metadata": {},
   "outputs": [],
   "source": [
    "import numpy as np\n",
    "from PIL import Image\n",
    "# Define randomized SVD function\n",
    "r = 400 # Target rank\n",
    "q = 1   # Power iterations\n",
    "p = 10   # Oversampling parameter\n",
    "def rSVD(X,r,q,p):\n",
    "    # Step 1: Sample column space of X with P matrix\n",
    "    ny = X.shape[1]\n",
    "    P = np.random.randn(ny,r+p)\n",
    "    Z = X @ P\n",
    "    for k in range(q):\n",
    "        Z = X @ (X.T @ Z)\n",
    "    Q, R = np.linalg.qr(Z,mode='reduced')\n",
    "\n",
    "    # Step 2: Compute SVD on projected Y = Q.T @ X\n",
    "    Y = Q.T @ X\n",
    "    UY, S, VT = np.linalg.svd(Y,full_matrices=0)\n",
    "    U = Q @ UY\n",
    "    \n",
    "    return U, S, VT"
   ]
  },
  {
   "cell_type": "code",
   "execution_count": null,
   "metadata": {},
   "outputs": [],
   "source": [
    "A = img = Image.open(\"Photo.jpg\")\n",
    "X = np.array(A, dtype = np.float32)\n",
    "red = X[:,:,0]\n",
    "green = X[:,:,1]\n",
    "blue = X[:,:,2]\n",
    "\n",
    "U_red, S_red, VT_red = np.linalg.svd(red, full_matrices = False)\n",
    "U_green, S_green, VT_green = np.linalg.svd(green, full_matrices = False)\n",
    "U_blue, S_blue, VT_blue = np.linalg.svd(blue, full_matrices = False)\n"
   ]
  },
  {
   "cell_type": "code",
   "execution_count": null,
   "metadata": {},
   "outputs": [],
   "source": [
    "X_red_SVD = U_red[:,:(r+1)] @ np.diag(S_red[:(r+1)]) @ VT_red[:(r+1),:] # SVD approximation\n",
    "X_green_SVD = U_green[:,:(r+1)] @ np.diag(S_green[:(r+1)]) @ VT_green[:(r+1),:] # SVD approximation\n",
    "X_blue_SVD = U_blue[:,:(r+1)] @ np.diag(S_blue[:(r+1)]) @ VT_blue[:(r+1),:] # SVD approximation\n"
   ]
  },
  {
   "cell_type": "code",
   "execution_count": null,
   "metadata": {
    "scrolled": true
   },
   "outputs": [],
   "source": [
    "X_red_SVD = X_red_SVD.reshape((red.shape)[1],len(S_red), 1)\n",
    "X_green_SVD = X_green_SVD.reshape((green.shape)[1],len(S_green) , 1)\n",
    "X_blue_SVD = X_blue_SVD.reshape((blue.shape)[1], len(S_blue), 1)\n",
    "\n",
    "X_r_SVD = np.concatenate((np.concatenate((X_red_SVD, X_green_SVD), axis = 2), X_blue_SVD), axis = 2)\n",
    "\n",
    "Image.fromarray(np.asarray(X_r_SVD, dtype=np.uint8)).save('Picture_SVD.jpg')\n",
    "Image.open('Picture_SVD.jpg')\n"
   ]
  },
  {
   "cell_type": "code",
   "execution_count": null,
   "metadata": {},
   "outputs": [],
   "source": [
    "rU_red, rS_red, rVT_red = rSVD(red,r,q,p)\n",
    "rU_green, rS_green, rVT_green = rSVD(green,r,q,p)\n",
    "rU_blue, rS_blue, rVT_blue = rSVD(blue,r,q,p)"
   ]
  },
  {
   "cell_type": "code",
   "execution_count": null,
   "metadata": {},
   "outputs": [],
   "source": [
    "X_red_rSVD = rU_red[:,:(r+1)] @ np.diag(rS_red[:(r+1)]) @ rVT_red[:(r+1),:] # SVD approximation\n",
    "X_green_rSVD = rU_green[:,:(r+1)] @ np.diag(rS_green[:(r+1)]) @ rVT_green[:(r+1),:] # SVD approximation\n",
    "X_blue_rSVD = rU_blue[:,:(r+1)] @ np.diag(rS_blue[:(r+1)]) @ rVT_blue[:(r+1),:] # SVD approximation\n"
   ]
  },
  {
   "cell_type": "code",
   "execution_count": null,
   "metadata": {
    "scrolled": true
   },
   "outputs": [],
   "source": [
    "X_red_rSVD = X_red_rSVD.reshape((red.shape)[1],len(red), 1)\n",
    "X_green_rSVD = X_green_rSVD.reshape((green.shape)[1],len(green) , 1)\n",
    "X_blue_rSVD = X_blue_rSVD.reshape((blue.shape)[1], len(blue), 1)\n",
    "X_red_rSVD[X_red_rSVD < 0] = 0\n",
    "X_red_rSVD[X_red_rSVD > 255] = 255\n",
    "X_green_rSVD[X_green_rSVD < 0] = 0\n",
    "X_green_rSVD[X_green_rSVD > 255] = 255\n",
    "X_blue_rSVD[X_blue_rSVD < 0] = 0\n",
    "X_blue_rSVD[X_blue_rSVD > 255] = 255"
   ]
  },
  {
   "cell_type": "code",
   "execution_count": null,
   "metadata": {},
   "outputs": [],
   "source": [
    "X_r_rSVD = np.concatenate((np.concatenate((X_red_rSVD,X_green_rSVD),axis=2),X_blue_rSVD ),axis=2)\n",
    "\n",
    "\n",
    "Image.fromarray(np.asarray(X_r_rSVD, dtype=np.uint8)).save('Picture_rSVD.jpg')\n",
    "Image.open('Picture_rSVD.jpg')\n",
    "\n"
   ]
  },
  {
   "cell_type": "code",
   "execution_count": null,
   "metadata": {},
   "outputs": [],
   "source": [
    "X_red_rSVD = np.uint8(np.concatenate((X_red_rSVD),axis = 1))\n",
    "Image.fromarray((X_red_rSVD)).save('Picture_redSVD.jpg')\n",
    "Image.open('Picture_redSVD.jpg')"
   ]
  },
  {
   "cell_type": "code",
   "execution_count": null,
   "metadata": {},
   "outputs": [],
   "source": [
    "X_green_rSVD = np.uint8(np.concatenate((X_green_rSVD),axis=1))\n",
    "Image.fromarray((X_green_rSVD)).save('Picture_greenSVD.jpg')\n",
    "Image.open('Picture_greenSVD.jpg')"
   ]
  },
  {
   "cell_type": "code",
   "execution_count": null,
   "metadata": {},
   "outputs": [],
   "source": [
    "X_blue_rSVD = np.uint8(np.concatenate((X_blue_rSVD),axis=1))\n",
    "Image.fromarray((X_green_rSVD)).save('Picture_blueSVD.jpg')\n",
    "Image.open('Picture_blueSVD.jpg')"
   ]
  },
  {
   "cell_type": "code",
   "execution_count": null,
   "metadata": {},
   "outputs": [],
   "source": []
  }
 ],
 "metadata": {
  "kernelspec": {
   "display_name": "Python 3 (ipykernel)",
   "language": "python",
   "name": "python3"
  },
  "language_info": {
   "codemirror_mode": {
    "name": "ipython",
    "version": 3
   },
   "file_extension": ".py",
   "mimetype": "text/x-python",
   "name": "python",
   "nbconvert_exporter": "python",
   "pygments_lexer": "ipython3",
   "version": "3.9.12"
  }
 },
 "nbformat": 4,
 "nbformat_minor": 2
}
