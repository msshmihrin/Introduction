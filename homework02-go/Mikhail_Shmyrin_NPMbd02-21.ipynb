{
 "cells": [
  {
   "cell_type": "markdown",
   "metadata": {},
   "source": [
    "## Домашнее задание - Библиотека numpy\n",
    "\n",
    "Подпишите этот блокнот: укажите ФИО и номер группы. Выполненное задание загрузите в свой репозиторий «<b>Python_Introduction_2022</b>» в github \n",
    "\n",
    "Перед выполнением этого домашнего задания полезно прочитать про возможности и основные методы библиотеки numpy:  \n",
    "http://acm.mipt.ru/twiki/bin/view/Cintro/PythonNumpy  \n"
   ]
  },
  {
   "cell_type": "markdown",
   "metadata": {},
   "source": [
    "1.\tСоздайте равномерное разбиение интервала от -1.3 до 2.5 на 64 отрезка."
   ]
  },
  {
   "cell_type": "code",
   "execution_count": 1,
   "metadata": {},
   "outputs": [
    {
     "name": "stdout",
     "output_type": "stream",
     "text": [
      "[-1.3      -1.240625 -1.18125  -1.121875 -1.0625   -1.003125 -0.94375\n",
      " -0.884375 -0.825    -0.765625 -0.70625  -0.646875 -0.5875   -0.528125\n",
      " -0.46875  -0.409375 -0.35     -0.290625 -0.23125  -0.171875 -0.1125\n",
      " -0.053125  0.00625   0.065625  0.125     0.184375  0.24375   0.303125\n",
      "  0.3625    0.421875  0.48125   0.540625  0.6       0.659375  0.71875\n",
      "  0.778125  0.8375    0.896875  0.95625   1.015625  1.075     1.134375\n",
      "  1.19375   1.253125  1.3125    1.371875  1.43125   1.490625  1.55\n",
      "  1.609375  1.66875   1.728125  1.7875    1.846875  1.90625   1.965625\n",
      "  2.025     2.084375  2.14375   2.203125  2.2625    2.321875  2.38125\n",
      "  2.440625]\n"
     ]
    }
   ],
   "source": [
    "import numpy as np\n",
    "print(np.arange(-1.3,2.5,(2.5+1.3)/64))\n"
   ]
  },
  {
   "cell_type": "markdown",
   "metadata": {},
   "source": [
    "2.\tСгенерируйте numpy массив длины $3n$, заполненный циклически числами 1, 2, 3, 1, 2, 3, 1...."
   ]
  },
  {
   "cell_type": "code",
   "execution_count": 5,
   "metadata": {},
   "outputs": [
    {
     "name": "stdout",
     "output_type": "stream",
     "text": [
      "[1 2 3 1 2 3 1 2 3 1 2 3 1 2 3 1 2 3 1 2 3 1 2 3 1 2 3 1 2 3 1 2 3 1 2 3 1\n",
      " 2 3 1 2 3 1 2 3 1 2 3 1 2 3 1 2 3 1 2 3 1 2 3 1 2 3 1 2 3 1 2 3 1 2 3 1 2\n",
      " 3 1 2 3 1 2 3 1 2 3 1 2 3 1 2 3 1 2 3 1 2 3 1 2 3 1 2 3 1 2 3 1 2 3 1 2 3\n",
      " 1 2 3 1 2 3 1 2 3 1 2 3 1 2 3 1 2 3 1 2 3 1 2 3 1 2 3 1 2 3 1 2 3 1 2 3 1\n",
      " 2 3 1 2 3 1 2 3 1 2 3 1 2 3 1 2 3 1 2 3 1 2 3 1 2 3 1 2 3 1 2 3 1 2 3 1 2\n",
      " 3]\n"
     ]
    }
   ],
   "source": [
    "x=[1,2,3]\n",
    "n=np.random.randint(1,100)\n",
    "print(np.array(n*x))"
   ]
  },
  {
   "cell_type": "markdown",
   "metadata": {},
   "source": [
    "3.\tСоздайте массив первых 10 нечетных целых чисел."
   ]
  },
  {
   "cell_type": "code",
   "execution_count": 11,
   "metadata": {},
   "outputs": [
    {
     "name": "stdout",
     "output_type": "stream",
     "text": [
      "[ 1.  3.  5.  7.  9. 11. 13. 15. 17. 19.]\n"
     ]
    }
   ],
   "source": [
    "n=np.zeros(10)\n",
    "for i in range(10):\n",
    "    n[i]=2*i+1\n",
    "print(n)"
   ]
  },
  {
   "cell_type": "markdown",
   "metadata": {},
   "source": [
    "4.  Создайте массив нулей размера 10 x 10, а затем создайте в нём \"рамку\" из единиц по краям."
   ]
  },
  {
   "cell_type": "code",
   "execution_count": 15,
   "metadata": {},
   "outputs": [
    {
     "name": "stdout",
     "output_type": "stream",
     "text": [
      "[[1. 1. 1. 1. 1. 1. 1. 1. 1. 1.]\n",
      " [1. 0. 0. 0. 0. 0. 0. 0. 0. 1.]\n",
      " [1. 0. 0. 0. 0. 0. 0. 0. 0. 1.]\n",
      " [1. 0. 0. 0. 0. 0. 0. 0. 0. 1.]\n",
      " [1. 0. 0. 0. 0. 0. 0. 0. 0. 1.]\n",
      " [1. 0. 0. 0. 0. 0. 0. 0. 0. 1.]\n",
      " [1. 0. 0. 0. 0. 0. 0. 0. 0. 1.]\n",
      " [1. 0. 0. 0. 0. 0. 0. 0. 0. 1.]\n",
      " [1. 0. 0. 0. 0. 0. 0. 0. 0. 1.]\n",
      " [1. 1. 1. 1. 1. 1. 1. 1. 1. 1.]]\n"
     ]
    }
   ],
   "source": [
    "n=np.zeros([10,10])\n",
    "n[0]=n[9]=1\n",
    "n=np.transpose(n)\n",
    "n[0]=n[9]=1\n",
    "#\n",
    "print(n)"
   ]
  },
  {
   "cell_type": "markdown",
   "metadata": {},
   "source": [
    "5.  Создайте массив 8 x 8 с шахматной доской из нулей и единиц."
   ]
  },
  {
   "cell_type": "code",
   "execution_count": 24,
   "metadata": {},
   "outputs": [
    {
     "name": "stdout",
     "output_type": "stream",
     "text": [
      "[[0. 1. 0. 1. 0. 1. 0. 1.]\n",
      " [1. 0. 1. 0. 1. 0. 1. 0.]\n",
      " [0. 1. 0. 1. 0. 1. 0. 1.]\n",
      " [1. 0. 1. 0. 1. 0. 1. 0.]\n",
      " [0. 1. 0. 1. 0. 1. 0. 1.]\n",
      " [1. 0. 1. 0. 1. 0. 1. 0.]\n",
      " [0. 1. 0. 1. 0. 1. 0. 1.]\n",
      " [1. 0. 1. 0. 1. 0. 1. 0.]]\n"
     ]
    }
   ],
   "source": [
    "n=np.zeros([8,8])\n",
    "for i in range (8):\n",
    "    for j in range (8):\n",
    "        if (i+j)%2==1:\n",
    "            n[i,j]=1\n",
    "print(n)"
   ]
  },
  {
   "cell_type": "markdown",
   "metadata": {},
   "source": [
    "6.  Создайте функцию, которая создает $n×n$ матрицу с $(i,j)$-элементом, равным $i+j$."
   ]
  },
  {
   "cell_type": "code",
   "execution_count": 32,
   "metadata": {},
   "outputs": [
    {
     "name": "stdout",
     "output_type": "stream",
     "text": [
      "[[0. 1. 2.]\n",
      " [1. 2. 3.]\n",
      " [2. 3. 4.]]\n"
     ]
    }
   ],
   "source": [
    "def matrix(n):\n",
    "    x=np.zeros([n,n])\n",
    "    for i in range(n):\n",
    "        for j in range(n):\n",
    "            x[i,j]=i+j\n",
    "    return(x)\n",
    "print(matrix(3))"
   ]
  },
  {
   "cell_type": "markdown",
   "metadata": {},
   "source": [
    "7. Примените функцию dot для перемножения вектор на вектор, матрицу на вектор и матрицу на матрицу."
   ]
  },
  {
   "cell_type": "code",
   "execution_count": 31,
   "metadata": {
    "scrolled": false
   },
   "outputs": [
    {
     "data": {
      "text/plain": [
       "array([[ 80, 117, 124,  57, 135, 134,  92,  82,  88,  71],\n",
       "       [139, 166, 190, 101, 201, 153, 185, 158, 187, 126],\n",
       "       [135, 143, 286, 147, 170, 174, 187, 182, 210, 111],\n",
       "       [126, 189, 201, 125, 191, 230, 166, 170, 188,  84],\n",
       "       [222, 223, 301, 140, 251, 185, 275, 198, 283, 218],\n",
       "       [150, 214, 207, 138, 193, 213, 254, 214, 232,  97],\n",
       "       [155, 172, 215, 153, 199, 180, 234, 165, 223, 160],\n",
       "       [130, 194, 181, 138, 131, 170, 257, 171, 194,  96],\n",
       "       [154, 157, 243, 182, 255, 177, 291, 211, 246, 161],\n",
       "       [117, 238, 218, 220, 244, 261, 294, 209, 190, 117]])"
      ]
     },
     "execution_count": 31,
     "metadata": {},
     "output_type": "execute_result"
    }
   ],
   "source": [
    "import numpy as np\n",
    "np.dot(2,2)\n",
    "\n",
    "np.dot(2,np.array([5,4,3,2,1]))\n",
    "\n",
    "A=np.arange(10)\n",
    "B=np.arange(4,14)\n",
    "C=np.random.randint(10, size=(10,10))\n",
    "D=np.random.randint(10, size=(10,10))\n",
    "\n",
    "np.dot(A,B) \n",
    "\n",
    "np.dot(A,C)\n",
    "\n",
    "np.dot(C,D) "
   ]
  },
  {
   "cell_type": "markdown",
   "metadata": {},
   "source": [
    "8. Вычислите cos(x) и sin(x) на интервале [0,1] с шагом $0.05$, а затем объедините оба массива чисел как строки в один массив."
   ]
  },
  {
   "cell_type": "code",
   "execution_count": null,
   "metadata": {},
   "outputs": [],
   "source": [
    "sin_8 = [np.sin(i) for i in np.arange(0, 1.05, 0.05)]\n",
    "print(sin_8)\n",
    "\n",
    "cos_8 = [np.cos(i) for i in np.arange(0, 1.05, 0.05)]\n",
    "print(cos_8)\n",
    "\n",
    "sin_8 = str(sin_8) + str(cos_8)\n",
    "print(sin_8)"
   ]
  },
  {
   "cell_type": "markdown",
   "metadata": {},
   "source": [
    "9. Создайте матрицу $A$ размера $3×5$ из случайных чисел с равномерным распределением на отрезке $[-1,3]$ (используйте np.random.rand)"
   ]
  },
  {
   "cell_type": "code",
   "execution_count": 38,
   "metadata": {},
   "outputs": [
    {
     "data": {
      "text/plain": [
       "array([[ 1.67302182,  2.68066197,  0.81831035,  0.54855011, -0.88256362],\n",
       "       [-0.33928323,  0.81968899,  2.82479908,  2.09069365,  0.1055746 ],\n",
       "       [ 0.50314443,  1.79555596,  1.70738393, -0.21859155,  1.97141847]])"
      ]
     },
     "execution_count": 38,
     "metadata": {},
     "output_type": "execute_result"
    }
   ],
   "source": [
    "A = np.random.rand(3,5)\n",
    "A=A*4-1\n",
    "A"
   ]
  },
  {
   "cell_type": "markdown",
   "metadata": {},
   "source": [
    "10. Найдите сумму всех элементов, сумму внутри строк, сумму внутри столбцов, а также среднее значение, дисперсию и стандартное отклонение чисел для каждой строки матрицы $A$. (Подобно тому, как sorted имеет необязательный аргумент key=, многие функции Numpy имеют необязательный аргумент axis=)\n"
   ]
  },
  {
   "cell_type": "code",
   "execution_count": 44,
   "metadata": {},
   "outputs": [
    {
     "name": "stdout",
     "output_type": "stream",
     "text": [
      "[1.83688301 5.29590692 5.35049336 2.42065221 1.19442946]\n",
      "[4.83798063 5.50147309 5.75891124]\n",
      "16.09836496401389\n",
      "[0.96759613 1.10029462 1.15178225]\n",
      "[1.41063938 1.41907954 0.73871934]\n",
      "[1.1877034  1.19125125 0.85948784]\n"
     ]
    }
   ],
   "source": [
    "print(A.sum(axis=0)) #сумма по столбцам\n",
    "print(A.sum(axis=1)) #сумма по строкам\n",
    "print(A.sum()) #сумма всех элементов\n",
    "print(A.mean(axis=1)) #построчное среднее значение\n",
    "print(A.var(axis=1)) # построчная дисперсия\n",
    "print(A.std(axis=1)) #построчное стандартное отклонение"
   ]
  },
  {
   "cell_type": "markdown",
   "metadata": {},
   "source": [
    "11.  Отнимите от каждого элемента матрицы $A$ среднее по строке и поделите на стандартное отклонение строки."
   ]
  },
  {
   "cell_type": "code",
   "execution_count": 45,
   "metadata": {},
   "outputs": [
    {
     "name": "stdout",
     "output_type": "stream",
     "text": [
      "[[ 0.59394095  1.69666808  0.31743066  0.11405537 -1.5059646 ]\n",
      " [-1.20845863 -0.07474605  1.39835266  1.40307587 -0.22200531]\n",
      " [-0.75467946  0.77982177  0.95486449 -0.8038702   1.444163  ]]\n"
     ]
    }
   ],
   "source": [
    "for i in range (3):\n",
    "    for j in range (5):\n",
    "        A[i,j] = (A[i,j] - np.mean(A[i]))/np.std(A[i])\n",
    "print(A)"
   ]
  },
  {
   "cell_type": "markdown",
   "metadata": {},
   "source": [
    "12. Отсортируйте матрицу $A$ по 3-ому столбцу, т.е. поменяйте местами строки матрицы так, чтобы 3-й столбец оказался отсортированным. Используйте для этого slicing + argsort + indexing."
   ]
  },
  {
   "cell_type": "code",
   "execution_count": 50,
   "metadata": {},
   "outputs": [
    {
     "name": "stdout",
     "output_type": "stream",
     "text": [
      "[[ 0.59394095  1.69666808  0.31743066  0.11405537 -1.5059646 ]\n",
      " [-1.20845863 -0.07474605  0.95486449  1.40307587 -0.22200531]\n",
      " [-0.75467946  0.77982177  1.39835266 -0.8038702   1.444163  ]]\n",
      "New [[ 0.59394095  1.69666808  0.31743066  0.11405537 -1.5059646 ]\n",
      " [-1.20845863 -0.07474605  0.95486449  1.40307587 -0.22200531]\n",
      " [-0.75467946  0.77982177  1.39835266 -0.8038702   1.444163  ]]\n"
     ]
    }
   ],
   "source": [
    "print(A)\n",
    "\n",
    "A[:, 2]=A[:, 2][np.argsort(A[:, 2])]\n",
    "print(\"New\", A)"
   ]
  },
  {
   "cell_type": "markdown",
   "metadata": {},
   "source": [
    "13. Посчитайте две матрицы: $B = A^TA$ и $C = AA^T$. Что вы можете о них сказать? Какого они размера? В чём их сходство и отличие?"
   ]
  },
  {
   "cell_type": "code",
   "execution_count": 5,
   "metadata": {},
   "outputs": [
    {
     "name": "stdout",
     "output_type": "stream",
     "text": [
      "Matrix A:\n",
      "[[8 3 3 9 8]\n",
      " [3 0 7 4 9]\n",
      " [5 1 2 6 4]\n",
      " [2 3 1 4 4]]\n",
      "\n",
      "Matrix B:\n",
      "[[102  35  57 122 119]\n",
      " [ 35  19  14  45  40]\n",
      " [ 57  14  63  71  99]\n",
      " [122  45  71 149 148]\n",
      " [119  40  99 148 177]]\n",
      "\n",
      "Matrix С:\n",
      "[[227 153 135  96]\n",
      " [153 155  89  65]\n",
      " [135  89  82  55]\n",
      " [ 96  65  55  46]]\n",
      "\n",
      "матрицы не равны\n"
     ]
    }
   ],
   "source": [
    "import numpy as np\n",
    "A=np.random.randint(10, size=(4,5))\n",
    "print(\"Matrix A:\", A, sep='\\n', end='\\n\\n')\n",
    "\n",
    "B=np.dot(A.T, A)\n",
    "print(\"Matrix B:\", B, sep='\\n', end='\\n'*2)\n",
    "\n",
    "C=np.dot(A, A.T)\n",
    "print(\"Matrix С:\", C, sep='\\n', end='\\n'*2)\n",
    "\n",
    "print('матрицы равны' if (B.shape==C.shape and B==C) else 'матрицы не равны')"
   ]
  },
  {
   "cell_type": "markdown",
   "metadata": {},
   "source": [
    "14. Найдите сумму диагональных элементов матриц $B$ и $C$."
   ]
  },
  {
   "cell_type": "code",
   "execution_count": 4,
   "metadata": {},
   "outputs": [
    {
     "name": "stdout",
     "output_type": "stream",
     "text": [
      "[[7 4 3 4 0]\n",
      " [8 3 9 6 9]\n",
      " [2 5 0 5 4]\n",
      " [7 9 8 8 3]\n",
      " [9 9 9 1 2]]\n"
     ]
    },
    {
     "data": {
      "text/plain": [
       "array([ 8,  8,  6, 15,  4])"
      ]
     },
     "execution_count": 4,
     "metadata": {},
     "output_type": "execute_result"
    }
   ],
   "source": [
    "import numpy as np\n",
    "A=np.random.randint(10, size=(5,5))\n",
    "B=np.random.randint(10, size=(5,5))\n",
    "print(A)\n",
    "np.diag(A)+np.diag(B)"
   ]
  },
  {
   "cell_type": "markdown",
   "metadata": {},
   "source": [
    "15.\tПосчитайте детерминант и ранг матриц $A$, $B$ и $C$, посмотрите на спектр (набор собственных значений) матриц $B$ и $C$, какие выводы вы можете сделать?  \n",
    "(подсказка: используйте готовые функции из библиотеки np.linalg). \n"
   ]
  },
  {
   "cell_type": "code",
   "execution_count": 3,
   "metadata": {},
   "outputs": [
    {
     "name": "stdout",
     "output_type": "stream",
     "text": [
      "[[7 1 6]\n",
      " [5 8 6]\n",
      " [0 5 7]]\n",
      "Определитель A: 297\n",
      "\n",
      "Ранг матрицы A: 3\n",
      "\n",
      "Спектр матрицы:\n",
      " [[ 0.08754209  0.07744108 -0.14141414]\n",
      " [-0.11784512  0.16498316 -0.04040404]\n",
      " [ 0.08417508 -0.11784512  0.17171717]]\n"
     ]
    }
   ],
   "source": [
    "import numpy as np\n",
    "A=np.random.randint(10, size=(3,3))\n",
    "print(A)\n",
    "print(f\"Определитель A: {int(np.linalg.det(A))}\", end='\\n'*2)\n",
    "print(f\"Ранг матрицы A: {np.linalg.matrix_rank(A)}\", end='\\n'*2)\n",
    "print(f\"Спектр матрицы:\\n {np.linalg.inv(A)}\")"
   ]
  },
  {
   "cell_type": "markdown",
   "metadata": {},
   "source": [
    "16. Численно посчитать определённый интеграл  3-мя методами:  \n",
    "a)\tПрямоугольников $\\int\\limits_a^b {f(x)dx \\approx \\Delta x\\sum\\limits_{k = 0}^N {f({x_k})} }$  \n",
    "b)\tТрапеций $\\int\\limits_a^b {f(x)dx \\approx \\frac{{\\Delta x}}{2}\\left( {f({x_0}) + 2\\sum\\limits_{k = 1}^{N - 1} {f({x_k})}  + f({x_N})} \\right)}$  \n",
    "c)\tПо правилу Симпсона  $\\int\\limits_a^b {f(x)dx \\approx \\frac{{\\Delta x}}{3}\\left( {f({x_0}) + 2\\sum\\limits_{k = 1}^{N/2 - 1} {f({x_{2k}})}  + 4\\sum\\limits_{k = 1}^{N/2} {f({x_{2k - 1}})}  + f({x_N})} \\right)}$  \n",
    "\n",
    "\n",
    "В реализации этих методов цикл for для суммирования использовать нельзя.  \n",
    "Нужно посчитать значение интеграла с некоторым шагом интегрирования (например начать с 0.1), потом уменьшить его в десять раз и ещё раз посчитать и так до тех пор пока отличие в ответах будет в 5-м знаке после запятой, т.е. чтобы ошибка была меньше 1e-5. Получить ответы для 3-х разных методов и сделать соответствующие выводы.  \n",
    "\n",
    "Далее необходимо сравнить полученные оценки с аналитическим решением (т.е. формульным, которое вы должны сами посчитать на листочке и вбить формулу-ответ).   \n",
    "\n",
    "В качестве интеграла взять один из следующих с номером, сгенерированным случайным образом с помощью функции np.random.randint(10), в качестве seed для генератора случайных чисел взять номер своего студенческого билета.\n",
    "\n",
    "<table width=\"80%\"\n",
    "       align=\"center\">\n",
    "    <tr>\n",
    "        <td> 0) $\\int\\limits_3^4 {\\frac{{{x^2} + 3}}{{x - 2}}dx}$ </td>\n",
    "        <td> 1) $\\int\\limits_{ - 2}^{ - 1} {\\frac{{x + 1}}{{{x^3} - {x^2}}}dx}$ </td>\n",
    "        <td> 2) $\\int\\limits_1^2 {\\frac{{{e^{1/{x^2}}}}}{{{x^3}}}dx}$ </td>\n",
    "        <td> 3) $\\int\\limits_1^e {\\frac{{\\cos (\\ln x)}}{x}dx}$ </td>\n",
    "        <td> 4) $\\int\\limits_1^e {\\frac{{dx}}{{x(1 + {{\\ln }^2}x)}}}$ </td>\n",
    "    </tr>                \n",
    "    <tr>\n",
    "        <td> 5) $\\int\\limits_0^{\\pi /2} {{{\\cos }^3}\\alpha \\;d\\alpha }$ </td>\n",
    "        <td> 6) $\\int\\limits_0^{1/3} {c{h^2}3x\\;dx}$ </td>\n",
    "        <td> 7) $\\int\\limits_2^3 {\\frac{{dy}}{{{y^2} - 2y - 8}}dy}$ </td>\n",
    "        <td> 8) $\\int\\limits_{3/4}^2 {\\frac{{dx}}{{\\sqrt {2 + 3x - 2{x^2}} }}}$ </td>\n",
    "        <td> 9) $\\int\\limits_0^2 {\\frac{{2x - 1}}{{2x + 1}}dx}$ </td>\n",
    "        </tr>\n",
    "</table>"
   ]
  },
  {
   "cell_type": "code",
   "execution_count": 2,
   "metadata": {},
   "outputs": [
    {
     "name": "stdout",
     "output_type": "stream",
     "text": [
      "Введите пределы интегрирования: 1 3\n",
      "Примерное значение интеграла: 7881299347899160.0\n"
     ]
    }
   ],
   "source": [
    "import numpy as np\n",
    "def foo(x):\n",
    "    return (x**2+3)/(x-2)\n",
    "\n",
    "def create_array(a,b):\n",
    "    return np.arange(a,b,0.01)\n",
    "\n",
    "def main():\n",
    "    try:\n",
    "        a,b=map(int, input(\"Введите пределы интегрирования: \").split())\n",
    "    except:\n",
    "        print(\"Некорректно-введенные \")\n",
    "    else:\n",
    "        print(f\"Примерное значение интеграла: {foo(create_array(a,b)).sum()}\")\n",
    "\n",
    "# a=create_array(1,2)\n",
    "# foo(a).sum()\n",
    "main()"
   ]
  },
  {
   "cell_type": "code",
   "execution_count": null,
   "metadata": {},
   "outputs": [],
   "source": []
  }
 ],
 "metadata": {
  "kernelspec": {
   "display_name": "Python 3 (ipykernel)",
   "language": "python",
   "name": "python3"
  },
  "language_info": {
   "codemirror_mode": {
    "name": "ipython",
    "version": 3
   },
   "file_extension": ".py",
   "mimetype": "text/x-python",
   "name": "python",
   "nbconvert_exporter": "python",
   "pygments_lexer": "ipython3",
   "version": "3.9.12"
  }
 },
 "nbformat": 4,
 "nbformat_minor": 2
}
